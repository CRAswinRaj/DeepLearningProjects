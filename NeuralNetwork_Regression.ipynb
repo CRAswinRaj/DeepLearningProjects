{
 "cells": [
  {
   "cell_type": "markdown",
   "metadata": {},
   "source": [
    "# Regression with Neural Network\n",
    "\n",
    "Here we use insurance.csv dataset to predict charges using other parameters(age, sex bmi, children, smoker, region)"
   ]
  },
  {
   "cell_type": "code",
   "execution_count": 1,
   "metadata": {},
   "outputs": [],
   "source": [
    "import tensorflow as tf\n",
    "import pandas as pd\n",
    "import matplotlib.pyplot as plt"
   ]
  },
  {
   "cell_type": "markdown",
   "metadata": {},
   "source": [
    "## Collecting Dataset"
   ]
  },
  {
   "cell_type": "code",
   "execution_count": 2,
   "metadata": {},
   "outputs": [],
   "source": [
    "insurance = pd.read_csv('datasets/insurance.csv')"
   ]
  },
  {
   "cell_type": "code",
   "execution_count": 3,
   "metadata": {},
   "outputs": [
    {
     "data": {
      "text/html": [
       "<div>\n",
       "<style scoped>\n",
       "    .dataframe tbody tr th:only-of-type {\n",
       "        vertical-align: middle;\n",
       "    }\n",
       "\n",
       "    .dataframe tbody tr th {\n",
       "        vertical-align: top;\n",
       "    }\n",
       "\n",
       "    .dataframe thead th {\n",
       "        text-align: right;\n",
       "    }\n",
       "</style>\n",
       "<table border=\"1\" class=\"dataframe\">\n",
       "  <thead>\n",
       "    <tr style=\"text-align: right;\">\n",
       "      <th></th>\n",
       "      <th>age</th>\n",
       "      <th>sex</th>\n",
       "      <th>bmi</th>\n",
       "      <th>children</th>\n",
       "      <th>smoker</th>\n",
       "      <th>region</th>\n",
       "      <th>charges</th>\n",
       "    </tr>\n",
       "  </thead>\n",
       "  <tbody>\n",
       "    <tr>\n",
       "      <th>0</th>\n",
       "      <td>19</td>\n",
       "      <td>female</td>\n",
       "      <td>27.900</td>\n",
       "      <td>0</td>\n",
       "      <td>yes</td>\n",
       "      <td>southwest</td>\n",
       "      <td>16884.92400</td>\n",
       "    </tr>\n",
       "    <tr>\n",
       "      <th>1</th>\n",
       "      <td>18</td>\n",
       "      <td>male</td>\n",
       "      <td>33.770</td>\n",
       "      <td>1</td>\n",
       "      <td>no</td>\n",
       "      <td>southeast</td>\n",
       "      <td>1725.55230</td>\n",
       "    </tr>\n",
       "    <tr>\n",
       "      <th>2</th>\n",
       "      <td>28</td>\n",
       "      <td>male</td>\n",
       "      <td>33.000</td>\n",
       "      <td>3</td>\n",
       "      <td>no</td>\n",
       "      <td>southeast</td>\n",
       "      <td>4449.46200</td>\n",
       "    </tr>\n",
       "    <tr>\n",
       "      <th>3</th>\n",
       "      <td>33</td>\n",
       "      <td>male</td>\n",
       "      <td>22.705</td>\n",
       "      <td>0</td>\n",
       "      <td>no</td>\n",
       "      <td>northwest</td>\n",
       "      <td>21984.47061</td>\n",
       "    </tr>\n",
       "    <tr>\n",
       "      <th>4</th>\n",
       "      <td>32</td>\n",
       "      <td>male</td>\n",
       "      <td>28.880</td>\n",
       "      <td>0</td>\n",
       "      <td>no</td>\n",
       "      <td>northwest</td>\n",
       "      <td>3866.85520</td>\n",
       "    </tr>\n",
       "  </tbody>\n",
       "</table>\n",
       "</div>"
      ],
      "text/plain": [
       "   age     sex     bmi  children smoker     region      charges\n",
       "0   19  female  27.900         0    yes  southwest  16884.92400\n",
       "1   18    male  33.770         1     no  southeast   1725.55230\n",
       "2   28    male  33.000         3     no  southeast   4449.46200\n",
       "3   33    male  22.705         0     no  northwest  21984.47061\n",
       "4   32    male  28.880         0     no  northwest   3866.85520"
      ]
     },
     "execution_count": 3,
     "metadata": {},
     "output_type": "execute_result"
    }
   ],
   "source": [
    "insurance.head()"
   ]
  },
  {
   "cell_type": "markdown",
   "metadata": {},
   "source": [
    "## Data Preprocessing"
   ]
  },
  {
   "cell_type": "code",
   "execution_count": 4,
   "metadata": {},
   "outputs": [],
   "source": [
    "from sklearn.compose import make_column_transformer\n",
    "from sklearn.preprocessing import MinMaxScaler, OneHotEncoder\n",
    "from sklearn.model_selection import train_test_split"
   ]
  },
  {
   "cell_type": "code",
   "execution_count": 5,
   "metadata": {},
   "outputs": [],
   "source": [
    "# Create a column transformer\n",
    "ct = make_column_transformer(\n",
    "    (MinMaxScaler(), ['age', 'bmi', 'children']), # turn all values in these columns between 0 and 1\n",
    "    (OneHotEncoder(handle_unknown='ignore'), ['sex', 'smoker', 'region'])\n",
    ")"
   ]
  },
  {
   "cell_type": "code",
   "execution_count": 6,
   "metadata": {},
   "outputs": [],
   "source": [
    "# Create X & y values\n",
    "X = insurance.drop('charges', axis=1)\n",
    "y = insurance['charges']"
   ]
  },
  {
   "cell_type": "code",
   "execution_count": 7,
   "metadata": {},
   "outputs": [],
   "source": [
    "# Build our train and test sets\n",
    "X_train, X_test, y_train, y_test = train_test_split(X, y, test_size=0.2, random_state=42)"
   ]
  },
  {
   "cell_type": "code",
   "execution_count": 8,
   "metadata": {},
   "outputs": [
    {
     "data": {
      "text/plain": [
       "ColumnTransformer(transformers=[('minmaxscaler', MinMaxScaler(),\n",
       "                                 ['age', 'bmi', 'children']),\n",
       "                                ('onehotencoder',\n",
       "                                 OneHotEncoder(handle_unknown='ignore'),\n",
       "                                 ['sex', 'smoker', 'region'])])"
      ]
     },
     "execution_count": 8,
     "metadata": {},
     "output_type": "execute_result"
    }
   ],
   "source": [
    "# Fit the column transformer to our training data\n",
    "ct.fit(X_train)"
   ]
  },
  {
   "cell_type": "code",
   "execution_count": 10,
   "metadata": {},
   "outputs": [],
   "source": [
    "# Transform training and test data with normalization (MinMaxScaler, OneHotEncoder)\n",
    "X_train = ct.transform(X_train)\n",
    "X_test = ct.transform(X_test)"
   ]
  },
  {
   "cell_type": "code",
   "execution_count": 33,
   "metadata": {
    "scrolled": true
   },
   "outputs": [
    {
     "data": {
      "text/plain": [
       "array([0.60869565, 0.10734463, 0.4       , 1.        , 0.        ,\n",
       "       1.        , 0.        , 0.        , 1.        , 0.        ,\n",
       "       0.        ])"
      ]
     },
     "execution_count": 33,
     "metadata": {},
     "output_type": "execute_result"
    }
   ],
   "source": [
    "X_train[0]"
   ]
  },
  {
   "cell_type": "code",
   "execution_count": 34,
   "metadata": {},
   "outputs": [
    {
     "data": {
      "text/plain": [
       "(1070, 11)"
      ]
     },
     "execution_count": 34,
     "metadata": {},
     "output_type": "execute_result"
    }
   ],
   "source": [
    "X_train_normal.shape"
   ]
  },
  {
   "cell_type": "markdown",
   "metadata": {},
   "source": [
    "## Training Models"
   ]
  },
  {
   "cell_type": "markdown",
   "metadata": {},
   "source": [
    "### Model 1"
   ]
  },
  {
   "cell_type": "code",
   "execution_count": 11,
   "metadata": {},
   "outputs": [
    {
     "name": "stdout",
     "output_type": "stream",
     "text": [
      "Epoch 1/100\n",
      "34/34 [==============================] - 1s 3ms/step - loss: 13344.3066 - mae: 13344.3066\n",
      "Epoch 2/100\n",
      "34/34 [==============================] - 0s 2ms/step - loss: 13339.4785 - mae: 13339.4785\n",
      "Epoch 3/100\n",
      "34/34 [==============================] - 0s 2ms/step - loss: 13325.8740 - mae: 13325.8740\n",
      "Epoch 4/100\n",
      "34/34 [==============================] - 0s 2ms/step - loss: 13284.3896 - mae: 13284.3896\n",
      "Epoch 5/100\n",
      "34/34 [==============================] - 0s 2ms/step - loss: 13156.0547 - mae: 13156.0547\n",
      "Epoch 6/100\n",
      "34/34 [==============================] - 0s 2ms/step - loss: 12756.2744 - mae: 12756.2744\n",
      "Epoch 7/100\n",
      "34/34 [==============================] - 0s 2ms/step - loss: 11604.6357 - mae: 11604.6357\n",
      "Epoch 8/100\n",
      "34/34 [==============================] - 0s 2ms/step - loss: 9815.3809 - mae: 9815.3809\n",
      "Epoch 9/100\n",
      "34/34 [==============================] - 0s 1ms/step - loss: 8611.2617 - mae: 8611.2617\n",
      "Epoch 10/100\n",
      "34/34 [==============================] - 0s 1ms/step - loss: 8165.9160 - mae: 8165.9160\n",
      "Epoch 11/100\n",
      "34/34 [==============================] - 0s 1ms/step - loss: 7949.1646 - mae: 7949.1646\n",
      "Epoch 12/100\n",
      "34/34 [==============================] - 0s 1ms/step - loss: 7731.2866 - mae: 7731.2866\n",
      "Epoch 13/100\n",
      "34/34 [==============================] - 0s 2ms/step - loss: 7492.5718 - mae: 7492.5718\n",
      "Epoch 14/100\n",
      "34/34 [==============================] - 0s 1ms/step - loss: 7213.6011 - mae: 7213.6011\n",
      "Epoch 15/100\n",
      "34/34 [==============================] - 0s 1ms/step - loss: 6893.3423 - mae: 6893.3423\n",
      "Epoch 16/100\n",
      "34/34 [==============================] - 0s 1ms/step - loss: 6511.6245 - mae: 6511.6245\n",
      "Epoch 17/100\n",
      "34/34 [==============================] - 0s 1ms/step - loss: 6060.7690 - mae: 6060.7690\n",
      "Epoch 18/100\n",
      "34/34 [==============================] - 0s 1ms/step - loss: 5512.8989 - mae: 5512.8989\n",
      "Epoch 19/100\n",
      "34/34 [==============================] - 0s 1ms/step - loss: 4934.2119 - mae: 4934.2119\n",
      "Epoch 20/100\n",
      "34/34 [==============================] - 0s 1ms/step - loss: 4401.3599 - mae: 4401.3599\n",
      "Epoch 21/100\n",
      "34/34 [==============================] - 0s 1ms/step - loss: 4037.0776 - mae: 4037.0776\n",
      "Epoch 22/100\n",
      "34/34 [==============================] - 0s 1ms/step - loss: 3826.6804 - mae: 3826.6804\n",
      "Epoch 23/100\n",
      "34/34 [==============================] - 0s 1ms/step - loss: 3732.8201 - mae: 3732.8201\n",
      "Epoch 24/100\n",
      "34/34 [==============================] - 0s 1ms/step - loss: 3699.7749 - mae: 3699.7749\n",
      "Epoch 25/100\n",
      "34/34 [==============================] - 0s 1ms/step - loss: 3687.2212 - mae: 3687.2212\n",
      "Epoch 26/100\n",
      "34/34 [==============================] - 0s 1ms/step - loss: 3682.2708 - mae: 3682.2708\n",
      "Epoch 27/100\n",
      "34/34 [==============================] - 0s 1ms/step - loss: 3672.4485 - mae: 3672.4485\n",
      "Epoch 28/100\n",
      "34/34 [==============================] - 0s 2ms/step - loss: 3665.9094 - mae: 3665.9094\n",
      "Epoch 29/100\n",
      "34/34 [==============================] - 0s 2ms/step - loss: 3656.9861 - mae: 3656.9861\n",
      "Epoch 30/100\n",
      "34/34 [==============================] - 0s 2ms/step - loss: 3660.2942 - mae: 3660.2942\n",
      "Epoch 31/100\n",
      "34/34 [==============================] - 0s 2ms/step - loss: 3650.9927 - mae: 3650.9927\n",
      "Epoch 32/100\n",
      "34/34 [==============================] - 0s 2ms/step - loss: 3642.1143 - mae: 3642.1143\n",
      "Epoch 33/100\n",
      "34/34 [==============================] - 0s 2ms/step - loss: 3643.7007 - mae: 3643.7007\n",
      "Epoch 34/100\n",
      "34/34 [==============================] - 0s 1ms/step - loss: 3635.1111 - mae: 3635.1111\n",
      "Epoch 35/100\n",
      "34/34 [==============================] - 0s 2ms/step - loss: 3627.5063 - mae: 3627.5063\n",
      "Epoch 36/100\n",
      "34/34 [==============================] - 0s 2ms/step - loss: 3628.6523 - mae: 3628.6523\n",
      "Epoch 37/100\n",
      "34/34 [==============================] - 0s 2ms/step - loss: 3622.9788 - mae: 3622.9788\n",
      "Epoch 38/100\n",
      "34/34 [==============================] - 0s 2ms/step - loss: 3609.2874 - mae: 3609.2874\n",
      "Epoch 39/100\n",
      "34/34 [==============================] - 0s 2ms/step - loss: 3603.7493 - mae: 3603.7493\n",
      "Epoch 40/100\n",
      "34/34 [==============================] - 0s 2ms/step - loss: 3591.7639 - mae: 3591.7639\n",
      "Epoch 41/100\n",
      "34/34 [==============================] - 0s 1ms/step - loss: 3587.2754 - mae: 3587.2754\n",
      "Epoch 42/100\n",
      "34/34 [==============================] - 0s 2ms/step - loss: 3582.0601 - mae: 3582.0601\n",
      "Epoch 43/100\n",
      "34/34 [==============================] - 0s 2ms/step - loss: 3576.5615 - mae: 3576.5615\n",
      "Epoch 44/100\n",
      "34/34 [==============================] - 0s 2ms/step - loss: 3573.6216 - mae: 3573.6216\n",
      "Epoch 45/100\n",
      "34/34 [==============================] - 0s 1ms/step - loss: 3567.7273 - mae: 3567.7273\n",
      "Epoch 46/100\n",
      "34/34 [==============================] - 0s 2ms/step - loss: 3566.0857 - mae: 3566.0857\n",
      "Epoch 47/100\n",
      "34/34 [==============================] - 0s 1ms/step - loss: 3557.6575 - mae: 3557.6575\n",
      "Epoch 48/100\n",
      "34/34 [==============================] - 0s 1ms/step - loss: 3550.4895 - mae: 3550.4895\n",
      "Epoch 49/100\n",
      "34/34 [==============================] - 0s 2ms/step - loss: 3547.5164 - mae: 3547.5164\n",
      "Epoch 50/100\n",
      "34/34 [==============================] - 0s 2ms/step - loss: 3544.4883 - mae: 3544.4883\n",
      "Epoch 51/100\n",
      "34/34 [==============================] - 0s 2ms/step - loss: 3542.4773 - mae: 3542.4773\n",
      "Epoch 52/100\n",
      "34/34 [==============================] - 0s 2ms/step - loss: 3531.8228 - mae: 3531.8228\n",
      "Epoch 53/100\n",
      "34/34 [==============================] - 0s 2ms/step - loss: 3532.3757 - mae: 3532.3757\n",
      "Epoch 54/100\n",
      "34/34 [==============================] - 0s 1ms/step - loss: 3532.7612 - mae: 3532.7612\n",
      "Epoch 55/100\n",
      "34/34 [==============================] - 0s 1ms/step - loss: 3524.9075 - mae: 3524.9075\n",
      "Epoch 56/100\n",
      "34/34 [==============================] - 0s 2ms/step - loss: 3523.1343 - mae: 3523.1343\n",
      "Epoch 57/100\n",
      "34/34 [==============================] - 0s 2ms/step - loss: 3515.5371 - mae: 3515.5371\n",
      "Epoch 58/100\n",
      "34/34 [==============================] - 0s 1ms/step - loss: 3517.6255 - mae: 3517.6255\n",
      "Epoch 59/100\n",
      "34/34 [==============================] - 0s 1ms/step - loss: 3510.1423 - mae: 3510.1423\n",
      "Epoch 60/100\n",
      "34/34 [==============================] - 0s 1ms/step - loss: 3508.8916 - mae: 3508.8916\n",
      "Epoch 61/100\n",
      "34/34 [==============================] - 0s 1ms/step - loss: 3515.4163 - mae: 3515.4163\n",
      "Epoch 62/100\n",
      "34/34 [==============================] - 0s 2ms/step - loss: 3499.1938 - mae: 3499.1938\n",
      "Epoch 63/100\n",
      "34/34 [==============================] - 0s 2ms/step - loss: 3499.1667 - mae: 3499.1667\n",
      "Epoch 64/100\n",
      "34/34 [==============================] - 0s 2ms/step - loss: 3485.4067 - mae: 3485.4067\n",
      "Epoch 65/100\n",
      "34/34 [==============================] - 0s 2ms/step - loss: 3487.0518 - mae: 3487.0518\n",
      "Epoch 66/100\n",
      "34/34 [==============================] - 0s 2ms/step - loss: 3489.7578 - mae: 3489.7578\n",
      "Epoch 67/100\n",
      "34/34 [==============================] - 0s 1ms/step - loss: 3485.1108 - mae: 3485.1108\n",
      "Epoch 68/100\n",
      "34/34 [==============================] - 0s 1ms/step - loss: 3487.7053 - mae: 3487.7053\n",
      "Epoch 69/100\n",
      "34/34 [==============================] - 0s 1ms/step - loss: 3490.0503 - mae: 3490.0503\n",
      "Epoch 70/100\n",
      "34/34 [==============================] - 0s 1ms/step - loss: 3495.2852 - mae: 3495.2852\n",
      "Epoch 71/100\n",
      "34/34 [==============================] - ETA: 0s - loss: 3746.7219 - mae: 3746.721 - 0s 1ms/step - loss: 3486.4199 - mae: 3486.4199\n",
      "Epoch 72/100\n",
      "34/34 [==============================] - 0s 1ms/step - loss: 3497.3501 - mae: 3497.3501\n",
      "Epoch 73/100\n",
      "34/34 [==============================] - 0s 2ms/step - loss: 3489.4609 - mae: 3489.4609\n",
      "Epoch 74/100\n",
      "34/34 [==============================] - 0s 1ms/step - loss: 3486.1196 - mae: 3486.1196\n",
      "Epoch 75/100\n",
      "34/34 [==============================] - 0s 1ms/step - loss: 3490.1924 - mae: 3490.1924\n",
      "Epoch 76/100\n",
      "34/34 [==============================] - 0s 1ms/step - loss: 3481.7578 - mae: 3481.7578\n",
      "Epoch 77/100\n",
      "34/34 [==============================] - 0s 1ms/step - loss: 3487.3503 - mae: 3487.3503\n",
      "Epoch 78/100\n",
      "34/34 [==============================] - 0s 1ms/step - loss: 3483.4565 - mae: 3483.4565\n",
      "Epoch 79/100\n",
      "34/34 [==============================] - 0s 1ms/step - loss: 3492.7158 - mae: 3492.7158\n",
      "Epoch 80/100\n",
      "34/34 [==============================] - 0s 2ms/step - loss: 3492.6729 - mae: 3492.6729\n",
      "Epoch 81/100\n"
     ]
    },
    {
     "name": "stdout",
     "output_type": "stream",
     "text": [
      "34/34 [==============================] - 0s 2ms/step - loss: 3485.0234 - mae: 3485.0234\n",
      "Epoch 82/100\n",
      "34/34 [==============================] - 0s 1ms/step - loss: 3486.6609 - mae: 3486.6609\n",
      "Epoch 83/100\n",
      "34/34 [==============================] - 0s 1ms/step - loss: 3495.8218 - mae: 3495.8218\n",
      "Epoch 84/100\n",
      "34/34 [==============================] - 0s 1ms/step - loss: 3480.0283 - mae: 3480.0283\n",
      "Epoch 85/100\n",
      "34/34 [==============================] - 0s 1ms/step - loss: 3485.9912 - mae: 3485.9912\n",
      "Epoch 86/100\n",
      "34/34 [==============================] - 0s 1ms/step - loss: 3483.8472 - mae: 3483.8472\n",
      "Epoch 87/100\n",
      "34/34 [==============================] - 0s 1ms/step - loss: 3488.1558 - mae: 3488.1558\n",
      "Epoch 88/100\n",
      "34/34 [==============================] - 0s 2ms/step - loss: 3495.9912 - mae: 3495.9912\n",
      "Epoch 89/100\n",
      "34/34 [==============================] - 0s 2ms/step - loss: 3488.3540 - mae: 3488.3540\n",
      "Epoch 90/100\n",
      "34/34 [==============================] - 0s 2ms/step - loss: 3494.0823 - mae: 3494.0823\n",
      "Epoch 91/100\n",
      "34/34 [==============================] - 0s 2ms/step - loss: 3489.1560 - mae: 3489.1560\n",
      "Epoch 92/100\n",
      "34/34 [==============================] - 0s 1ms/step - loss: 3497.8367 - mae: 3497.8367\n",
      "Epoch 93/100\n",
      "34/34 [==============================] - 0s 1ms/step - loss: 3490.6257 - mae: 3490.6257\n",
      "Epoch 94/100\n",
      "34/34 [==============================] - 0s 1ms/step - loss: 3489.2334 - mae: 3489.2334\n",
      "Epoch 95/100\n",
      "34/34 [==============================] - 0s 2ms/step - loss: 3484.1780 - mae: 3484.1780\n",
      "Epoch 96/100\n",
      "34/34 [==============================] - 0s 2ms/step - loss: 3483.4451 - mae: 3483.4451\n",
      "Epoch 97/100\n",
      "34/34 [==============================] - 0s 2ms/step - loss: 3490.5178 - mae: 3490.5178\n",
      "Epoch 98/100\n",
      "34/34 [==============================] - 0s 2ms/step - loss: 3481.6479 - mae: 3481.6479\n",
      "Epoch 99/100\n",
      "34/34 [==============================] - 0s 2ms/step - loss: 3493.0212 - mae: 3493.0212\n",
      "Epoch 100/100\n",
      "34/34 [==============================] - 0s 1ms/step - loss: 3498.9114 - mae: 3498.9114\n"
     ]
    },
    {
     "data": {
      "text/plain": [
       "<tensorflow.python.keras.callbacks.History at 0x7fa9686a68b0>"
      ]
     },
     "execution_count": 11,
     "metadata": {},
     "output_type": "execute_result"
    }
   ],
   "source": [
    "# Build a neural network \n",
    "\n",
    "# Set random seed\n",
    "tf.random.set_seed(42)\n",
    "\n",
    "# 1. Create a model\n",
    "insurance_model = tf.keras.Sequential([\n",
    "    tf.keras.layers.Dense(10),\n",
    "    tf.keras.layers.Dense(1)\n",
    "])\n",
    "\n",
    "# 2. Compile the model\n",
    "insurance_model.compile(loss=tf.keras.losses.mae,\n",
    "                        optimizer=tf.keras.optimizers.SGD(),\n",
    "                        metrics=['mae'])\n",
    "\n",
    "# 3. Fit the model\n",
    "insurance_model.fit(X_train, y_train, epochs=100)"
   ]
  },
  {
   "cell_type": "code",
   "execution_count": 15,
   "metadata": {},
   "outputs": [
    {
     "name": "stdout",
     "output_type": "stream",
     "text": [
      "9/9 [==============================] - 0s 1ms/step - loss: 3170.0488 - mae: 3170.0488\n"
     ]
    },
    {
     "data": {
      "text/plain": [
       "[3170.048828125, 3170.048828125]"
      ]
     },
     "execution_count": 15,
     "metadata": {},
     "output_type": "execute_result"
    }
   ],
   "source": [
    "# Check the results of the insurance model on the test data\n",
    "insurance_model.evaluate(X_test, y_test)"
   ]
  },
  {
   "cell_type": "code",
   "execution_count": 16,
   "metadata": {},
   "outputs": [
    {
     "data": {
      "text/plain": [
       "(9575.4421, 13346.089736364485)"
      ]
     },
     "execution_count": 16,
     "metadata": {},
     "output_type": "execute_result"
    }
   ],
   "source": [
    "y_train.median(), y_train.mean()"
   ]
  },
  {
   "cell_type": "markdown",
   "metadata": {},
   "source": [
    "Here, the mean absolute error = 3170.\n",
    "\n",
    "### Model 2\n",
    "Now, let's try to reduce error by adding more layers and using Adam optimizer"
   ]
  },
  {
   "cell_type": "code",
   "execution_count": 17,
   "metadata": {},
   "outputs": [
    {
     "name": "stdout",
     "output_type": "stream",
     "text": [
      "Epoch 1/100\n",
      "34/34 [==============================] - 1s 3ms/step - loss: 13342.6494 - mae: 13342.6494\n",
      "Epoch 2/100\n",
      "34/34 [==============================] - 0s 3ms/step - loss: 13333.4795 - mae: 13333.4795\n",
      "Epoch 3/100\n",
      "34/34 [==============================] - 0s 3ms/step - loss: 13312.0234 - mae: 13312.0234\n",
      "Epoch 4/100\n",
      "34/34 [==============================] - 0s 3ms/step - loss: 13267.7930 - mae: 13267.7930\n",
      "Epoch 5/100\n",
      "34/34 [==============================] - 0s 3ms/step - loss: 13189.5850 - mae: 13189.5850\n",
      "Epoch 6/100\n",
      "34/34 [==============================] - 0s 3ms/step - loss: 13066.4482 - mae: 13066.4482\n",
      "Epoch 7/100\n",
      "34/34 [==============================] - 0s 2ms/step - loss: 12888.1953 - mae: 12888.1953\n",
      "Epoch 8/100\n",
      "34/34 [==============================] - 0s 2ms/step - loss: 12644.6523 - mae: 12644.6523\n",
      "Epoch 9/100\n",
      "34/34 [==============================] - 0s 2ms/step - loss: 12325.5469 - mae: 12325.5469\n",
      "Epoch 10/100\n",
      "34/34 [==============================] - 0s 2ms/step - loss: 11925.9658 - mae: 11925.9658\n",
      "Epoch 11/100\n",
      "34/34 [==============================] - 0s 2ms/step - loss: 11454.3350 - mae: 11454.3350\n",
      "Epoch 12/100\n",
      "34/34 [==============================] - 0s 2ms/step - loss: 10949.8066 - mae: 10949.8066\n",
      "Epoch 13/100\n",
      "34/34 [==============================] - 0s 2ms/step - loss: 10448.9395 - mae: 10448.9395\n",
      "Epoch 14/100\n",
      "34/34 [==============================] - 0s 2ms/step - loss: 9951.6250 - mae: 9951.6250\n",
      "Epoch 15/100\n",
      "34/34 [==============================] - 0s 2ms/step - loss: 9482.7422 - mae: 9482.7422\n",
      "Epoch 16/100\n",
      "34/34 [==============================] - 0s 2ms/step - loss: 9066.7461 - mae: 9066.7461\n",
      "Epoch 17/100\n",
      "34/34 [==============================] - 0s 2ms/step - loss: 8721.9844 - mae: 8721.9844\n",
      "Epoch 18/100\n",
      "34/34 [==============================] - 0s 2ms/step - loss: 8441.2002 - mae: 8441.2002\n",
      "Epoch 19/100\n",
      "34/34 [==============================] - 0s 2ms/step - loss: 8227.5117 - mae: 8227.5117\n",
      "Epoch 20/100\n",
      "34/34 [==============================] - 0s 2ms/step - loss: 8081.9775 - mae: 8081.9775\n",
      "Epoch 21/100\n",
      "34/34 [==============================] - 0s 2ms/step - loss: 7973.8936 - mae: 7973.8936\n",
      "Epoch 22/100\n",
      "34/34 [==============================] - 0s 2ms/step - loss: 7899.1597 - mae: 7899.1597\n",
      "Epoch 23/100\n",
      "34/34 [==============================] - 0s 2ms/step - loss: 7840.3906 - mae: 7840.3906\n",
      "Epoch 24/100\n",
      "34/34 [==============================] - 0s 2ms/step - loss: 7787.9619 - mae: 7787.9619\n",
      "Epoch 25/100\n",
      "34/34 [==============================] - 0s 2ms/step - loss: 7749.2622 - mae: 7749.2622\n",
      "Epoch 26/100\n",
      "34/34 [==============================] - 0s 2ms/step - loss: 7697.9590 - mae: 7697.9590\n",
      "Epoch 27/100\n",
      "34/34 [==============================] - 0s 1ms/step - loss: 7656.0273 - mae: 7656.0273\n",
      "Epoch 28/100\n",
      "34/34 [==============================] - 0s 2ms/step - loss: 7613.4780 - mae: 7613.4780\n",
      "Epoch 29/100\n",
      "34/34 [==============================] - 0s 2ms/step - loss: 7570.9482 - mae: 7570.9482\n",
      "Epoch 30/100\n",
      "34/34 [==============================] - 0s 2ms/step - loss: 7527.4175 - mae: 7527.4175\n",
      "Epoch 31/100\n",
      "34/34 [==============================] - 0s 2ms/step - loss: 7483.5947 - mae: 7483.5947\n",
      "Epoch 32/100\n",
      "34/34 [==============================] - 0s 2ms/step - loss: 7439.4419 - mae: 7439.4419\n",
      "Epoch 33/100\n",
      "34/34 [==============================] - 0s 2ms/step - loss: 7395.0557 - mae: 7395.0557\n",
      "Epoch 34/100\n",
      "34/34 [==============================] - 0s 2ms/step - loss: 7346.8125 - mae: 7346.8125\n",
      "Epoch 35/100\n",
      "34/34 [==============================] - 0s 2ms/step - loss: 7300.0488 - mae: 7300.0488\n",
      "Epoch 36/100\n",
      "34/34 [==============================] - 0s 2ms/step - loss: 7249.8452 - mae: 7249.8452\n",
      "Epoch 37/100\n",
      "34/34 [==============================] - 0s 2ms/step - loss: 7199.5308 - mae: 7199.5308\n",
      "Epoch 38/100\n",
      "34/34 [==============================] - 0s 2ms/step - loss: 7148.4814 - mae: 7148.4814\n",
      "Epoch 39/100\n",
      "34/34 [==============================] - 0s 2ms/step - loss: 7093.6660 - mae: 7093.6660\n",
      "Epoch 40/100\n",
      "34/34 [==============================] - 0s 2ms/step - loss: 7038.1797 - mae: 7038.1797\n",
      "Epoch 41/100\n",
      "34/34 [==============================] - 0s 2ms/step - loss: 6981.7397 - mae: 6981.7397\n",
      "Epoch 42/100\n",
      "34/34 [==============================] - 0s 2ms/step - loss: 6922.7847 - mae: 6922.7847\n",
      "Epoch 43/100\n",
      "34/34 [==============================] - 0s 2ms/step - loss: 6860.1729 - mae: 6860.1729\n",
      "Epoch 44/100\n",
      "34/34 [==============================] - 0s 1ms/step - loss: 6793.7974 - mae: 6793.7974\n",
      "Epoch 45/100\n",
      "34/34 [==============================] - 0s 2ms/step - loss: 6726.6201 - mae: 6726.6201\n",
      "Epoch 46/100\n",
      "34/34 [==============================] - 0s 2ms/step - loss: 6657.4683 - mae: 6657.4683\n",
      "Epoch 47/100\n",
      "34/34 [==============================] - 0s 2ms/step - loss: 6586.3086 - mae: 6586.3086\n",
      "Epoch 48/100\n",
      "34/34 [==============================] - 0s 2ms/step - loss: 6507.5063 - mae: 6507.5063\n",
      "Epoch 49/100\n",
      "34/34 [==============================] - 0s 2ms/step - loss: 6428.6025 - mae: 6428.6025\n",
      "Epoch 50/100\n",
      "34/34 [==============================] - 0s 2ms/step - loss: 6342.7104 - mae: 6342.7104\n",
      "Epoch 51/100\n",
      "34/34 [==============================] - 0s 2ms/step - loss: 6258.0718 - mae: 6258.0718\n",
      "Epoch 52/100\n",
      "34/34 [==============================] - 0s 2ms/step - loss: 6164.7046 - mae: 6164.7046\n",
      "Epoch 53/100\n",
      "34/34 [==============================] - 0s 2ms/step - loss: 6068.6748 - mae: 6068.6748\n",
      "Epoch 54/100\n",
      "34/34 [==============================] - 0s 1ms/step - loss: 5970.0981 - mae: 5970.0981\n",
      "Epoch 55/100\n",
      "34/34 [==============================] - 0s 1ms/step - loss: 5862.5625 - mae: 5862.5625\n",
      "Epoch 56/100\n",
      "34/34 [==============================] - 0s 2ms/step - loss: 5753.9531 - mae: 5753.9531\n",
      "Epoch 57/100\n",
      "34/34 [==============================] - 0s 2ms/step - loss: 5638.0947 - mae: 5638.0947\n",
      "Epoch 58/100\n",
      "34/34 [==============================] - 0s 2ms/step - loss: 5519.8691 - mae: 5519.8691\n",
      "Epoch 59/100\n",
      "34/34 [==============================] - 0s 2ms/step - loss: 5401.3208 - mae: 5401.3208\n",
      "Epoch 60/100\n",
      "34/34 [==============================] - 0s 2ms/step - loss: 5277.3511 - mae: 5277.3511\n",
      "Epoch 61/100\n",
      "34/34 [==============================] - 0s 2ms/step - loss: 5149.7642 - mae: 5149.7642\n",
      "Epoch 62/100\n",
      "34/34 [==============================] - 0s 2ms/step - loss: 5019.3540 - mae: 5019.3540\n",
      "Epoch 63/100\n",
      "34/34 [==============================] - 0s 2ms/step - loss: 4889.6865 - mae: 4889.6865\n",
      "Epoch 64/100\n",
      "34/34 [==============================] - 0s 2ms/step - loss: 4756.8560 - mae: 4756.8560\n",
      "Epoch 65/100\n",
      "34/34 [==============================] - 0s 2ms/step - loss: 4629.4375 - mae: 4629.4375\n",
      "Epoch 66/100\n",
      "34/34 [==============================] - 0s 2ms/step - loss: 4503.6001 - mae: 4503.6001\n",
      "Epoch 67/100\n",
      "34/34 [==============================] - 0s 1ms/step - loss: 4392.9927 - mae: 4392.9927\n",
      "Epoch 68/100\n",
      "34/34 [==============================] - 0s 1ms/step - loss: 4284.3872 - mae: 4284.3872\n",
      "Epoch 69/100\n",
      "34/34 [==============================] - 0s 2ms/step - loss: 4182.6182 - mae: 4182.6182\n",
      "Epoch 70/100\n",
      "34/34 [==============================] - 0s 2ms/step - loss: 4089.5725 - mae: 4089.5725\n",
      "Epoch 71/100\n",
      "34/34 [==============================] - 0s 2ms/step - loss: 4003.3901 - mae: 4003.3901\n",
      "Epoch 72/100\n",
      "34/34 [==============================] - 0s 2ms/step - loss: 3929.0098 - mae: 3929.0098\n",
      "Epoch 73/100\n",
      "34/34 [==============================] - 0s 2ms/step - loss: 3866.3110 - mae: 3866.3110\n",
      "Epoch 74/100\n",
      "34/34 [==============================] - 0s 2ms/step - loss: 3813.7146 - mae: 3813.7146\n",
      "Epoch 75/100\n",
      "34/34 [==============================] - 0s 2ms/step - loss: 3773.0320 - mae: 3773.0320\n",
      "Epoch 76/100\n",
      "34/34 [==============================] - 0s 2ms/step - loss: 3744.1997 - mae: 3744.1997\n",
      "Epoch 77/100\n",
      "34/34 [==============================] - 0s 2ms/step - loss: 3719.6870 - mae: 3719.6870\n",
      "Epoch 78/100\n",
      "34/34 [==============================] - 0s 2ms/step - loss: 3702.9114 - mae: 3702.9114\n",
      "Epoch 79/100\n",
      "34/34 [==============================] - 0s 2ms/step - loss: 3691.8794 - mae: 3691.8794\n",
      "Epoch 80/100\n",
      "34/34 [==============================] - 0s 2ms/step - loss: 3682.8350 - mae: 3682.8350\n",
      "Epoch 81/100\n"
     ]
    },
    {
     "name": "stdout",
     "output_type": "stream",
     "text": [
      "34/34 [==============================] - 0s 2ms/step - loss: 3676.9766 - mae: 3676.9766\n",
      "Epoch 82/100\n",
      "34/34 [==============================] - 0s 2ms/step - loss: 3673.9492 - mae: 3673.9492\n",
      "Epoch 83/100\n",
      "34/34 [==============================] - 0s 2ms/step - loss: 3667.8455 - mae: 3667.8455\n",
      "Epoch 84/100\n",
      "34/34 [==============================] - 0s 2ms/step - loss: 3664.5759 - mae: 3664.5759\n",
      "Epoch 85/100\n",
      "34/34 [==============================] - 0s 2ms/step - loss: 3661.8562 - mae: 3661.8562\n",
      "Epoch 86/100\n",
      "34/34 [==============================] - 0s 2ms/step - loss: 3660.3044 - mae: 3660.3044\n",
      "Epoch 87/100\n",
      "34/34 [==============================] - 0s 2ms/step - loss: 3657.5134 - mae: 3657.5134\n",
      "Epoch 88/100\n",
      "34/34 [==============================] - 0s 2ms/step - loss: 3655.2202 - mae: 3655.2202\n",
      "Epoch 89/100\n",
      "34/34 [==============================] - 0s 2ms/step - loss: 3653.8833 - mae: 3653.8833\n",
      "Epoch 90/100\n",
      "34/34 [==============================] - 0s 2ms/step - loss: 3652.0193 - mae: 3652.0193\n",
      "Epoch 91/100\n",
      "34/34 [==============================] - 0s 2ms/step - loss: 3648.9988 - mae: 3648.9988\n",
      "Epoch 92/100\n",
      "34/34 [==============================] - 0s 2ms/step - loss: 3648.4463 - mae: 3648.4463\n",
      "Epoch 93/100\n",
      "34/34 [==============================] - 0s 2ms/step - loss: 3646.2300 - mae: 3646.2300\n",
      "Epoch 94/100\n",
      "34/34 [==============================] - 0s 2ms/step - loss: 3644.4380 - mae: 3644.4380\n",
      "Epoch 95/100\n",
      "34/34 [==============================] - 0s 2ms/step - loss: 3645.8772 - mae: 3645.8772\n",
      "Epoch 96/100\n",
      "34/34 [==============================] - 0s 2ms/step - loss: 3642.2573 - mae: 3642.2573\n",
      "Epoch 97/100\n",
      "34/34 [==============================] - 0s 2ms/step - loss: 3640.1184 - mae: 3640.1184\n",
      "Epoch 98/100\n",
      "34/34 [==============================] - 0s 2ms/step - loss: 3638.0649 - mae: 3638.0649\n",
      "Epoch 99/100\n",
      "34/34 [==============================] - 0s 2ms/step - loss: 3637.2051 - mae: 3637.2051\n",
      "Epoch 100/100\n",
      "34/34 [==============================] - 0s 2ms/step - loss: 3636.1707 - mae: 3636.1707\n"
     ]
    },
    {
     "data": {
      "text/plain": [
       "<tensorflow.python.keras.callbacks.History at 0x7fa96832eac0>"
      ]
     },
     "execution_count": 17,
     "metadata": {},
     "output_type": "execute_result"
    }
   ],
   "source": [
    "tf.random.set_seed(42)\n",
    "\n",
    "# 1. Create a model\n",
    "insurance_model_2 = tf.keras.Sequential([\n",
    "    tf.keras.layers.Dense(100),\n",
    "    tf.keras.layers.Dense(10),\n",
    "    tf.keras.layers.Dense(1)\n",
    "])\n",
    "\n",
    "# 2. Compile the model\n",
    "insurance_model_2.compile(loss=tf.keras.losses.mae,\n",
    "                          optimizer=tf.keras.optimizers.Adam(),\n",
    "                          metrics=['mae'])\n",
    "\n",
    "# 3. Fit the model\n",
    "insurance_model_2.fit(X_train, y_train, epochs=100)"
   ]
  },
  {
   "cell_type": "code",
   "execution_count": 18,
   "metadata": {},
   "outputs": [
    {
     "name": "stdout",
     "output_type": "stream",
     "text": [
      "9/9 [==============================] - 0s 2ms/step - loss: 3438.7844 - mae: 3438.7844\n"
     ]
    },
    {
     "data": {
      "text/plain": [
       "[3438.784423828125, 3438.784423828125]"
      ]
     },
     "execution_count": 18,
     "metadata": {},
     "output_type": "execute_result"
    }
   ],
   "source": [
    "# Evaluate the larger model\n",
    "insurance_model_2.evaluate(X_test, y_test)"
   ]
  },
  {
   "cell_type": "markdown",
   "metadata": {},
   "source": [
    "Here, the error has increased than before"
   ]
  },
  {
   "cell_type": "markdown",
   "metadata": {},
   "source": [
    "### Model 3\n",
    "Increase the epochs"
   ]
  },
  {
   "cell_type": "code",
   "execution_count": 36,
   "metadata": {},
   "outputs": [
    {
     "name": "stdout",
     "output_type": "stream",
     "text": [
      "Epoch 1/200\n",
      "34/34 [==============================] - 0s 3ms/step - loss: 13344.3066 - mae: 13344.3066\n",
      "Epoch 2/200\n",
      "34/34 [==============================] - 0s 3ms/step - loss: 13339.4785 - mae: 13339.4785\n",
      "Epoch 3/200\n",
      "34/34 [==============================] - 0s 2ms/step - loss: 13325.8740 - mae: 13325.8740\n",
      "Epoch 4/200\n",
      "34/34 [==============================] - 0s 2ms/step - loss: 13284.3896 - mae: 13284.3896\n",
      "Epoch 5/200\n",
      "34/34 [==============================] - 0s 2ms/step - loss: 13156.0547 - mae: 13156.0547\n",
      "Epoch 6/200\n",
      "34/34 [==============================] - 0s 2ms/step - loss: 12756.2744 - mae: 12756.2744\n",
      "Epoch 7/200\n",
      "34/34 [==============================] - 0s 2ms/step - loss: 11604.6357 - mae: 11604.6357\n",
      "Epoch 8/200\n",
      "34/34 [==============================] - 0s 2ms/step - loss: 9815.3809 - mae: 9815.3809\n",
      "Epoch 9/200\n",
      "34/34 [==============================] - 0s 2ms/step - loss: 8611.2617 - mae: 8611.2617\n",
      "Epoch 10/200\n",
      "34/34 [==============================] - 0s 2ms/step - loss: 8165.9160 - mae: 8165.9160\n",
      "Epoch 11/200\n",
      "34/34 [==============================] - 0s 2ms/step - loss: 7949.1646 - mae: 7949.1646\n",
      "Epoch 12/200\n",
      "34/34 [==============================] - 0s 1ms/step - loss: 7731.2866 - mae: 7731.2866\n",
      "Epoch 13/200\n",
      "34/34 [==============================] - 0s 1ms/step - loss: 7492.5718 - mae: 7492.5718\n",
      "Epoch 14/200\n",
      "34/34 [==============================] - 0s 1ms/step - loss: 7213.6011 - mae: 7213.6011\n",
      "Epoch 15/200\n",
      "34/34 [==============================] - 0s 1ms/step - loss: 6893.3423 - mae: 6893.3423\n",
      "Epoch 16/200\n",
      "34/34 [==============================] - 0s 1ms/step - loss: 6511.6245 - mae: 6511.6245\n",
      "Epoch 17/200\n",
      "34/34 [==============================] - 0s 1ms/step - loss: 6060.7690 - mae: 6060.7690\n",
      "Epoch 18/200\n",
      "34/34 [==============================] - 0s 2ms/step - loss: 5512.8989 - mae: 5512.8989\n",
      "Epoch 19/200\n",
      "34/34 [==============================] - 0s 1ms/step - loss: 4934.2119 - mae: 4934.2119\n",
      "Epoch 20/200\n",
      "34/34 [==============================] - 0s 1ms/step - loss: 4401.3599 - mae: 4401.3599\n",
      "Epoch 21/200\n",
      "34/34 [==============================] - 0s 2ms/step - loss: 4037.0776 - mae: 4037.0776\n",
      "Epoch 22/200\n",
      "34/34 [==============================] - 0s 2ms/step - loss: 3826.6804 - mae: 3826.6804\n",
      "Epoch 23/200\n",
      "34/34 [==============================] - 0s 2ms/step - loss: 3732.8201 - mae: 3732.8201\n",
      "Epoch 24/200\n",
      "34/34 [==============================] - 0s 1ms/step - loss: 3699.7749 - mae: 3699.7749\n",
      "Epoch 25/200\n",
      "34/34 [==============================] - 0s 2ms/step - loss: 3687.2212 - mae: 3687.2212\n",
      "Epoch 26/200\n",
      "34/34 [==============================] - 0s 2ms/step - loss: 3682.2708 - mae: 3682.2708\n",
      "Epoch 27/200\n",
      "34/34 [==============================] - 0s 2ms/step - loss: 3672.4485 - mae: 3672.4485\n",
      "Epoch 28/200\n",
      "34/34 [==============================] - 0s 2ms/step - loss: 3665.9094 - mae: 3665.9094\n",
      "Epoch 29/200\n",
      "34/34 [==============================] - 0s 2ms/step - loss: 3656.9861 - mae: 3656.9861\n",
      "Epoch 30/200\n",
      "34/34 [==============================] - 0s 1ms/step - loss: 3660.2942 - mae: 3660.2942\n",
      "Epoch 31/200\n",
      "34/34 [==============================] - 0s 1ms/step - loss: 3650.9927 - mae: 3650.9927\n",
      "Epoch 32/200\n",
      "34/34 [==============================] - 0s 1ms/step - loss: 3642.1143 - mae: 3642.1143\n",
      "Epoch 33/200\n",
      "34/34 [==============================] - 0s 2ms/step - loss: 3643.7007 - mae: 3643.7007\n",
      "Epoch 34/200\n",
      "34/34 [==============================] - 0s 2ms/step - loss: 3635.1111 - mae: 3635.1111\n",
      "Epoch 35/200\n",
      "34/34 [==============================] - 0s 1ms/step - loss: 3627.5063 - mae: 3627.5063\n",
      "Epoch 36/200\n",
      "34/34 [==============================] - 0s 1ms/step - loss: 3628.6523 - mae: 3628.6523\n",
      "Epoch 37/200\n",
      "34/34 [==============================] - 0s 2ms/step - loss: 3622.9788 - mae: 3622.9788\n",
      "Epoch 38/200\n",
      "34/34 [==============================] - 0s 2ms/step - loss: 3609.2874 - mae: 3609.2874\n",
      "Epoch 39/200\n",
      "34/34 [==============================] - 0s 1ms/step - loss: 3603.7493 - mae: 3603.7493\n",
      "Epoch 40/200\n",
      "34/34 [==============================] - 0s 1ms/step - loss: 3591.7639 - mae: 3591.7639\n",
      "Epoch 41/200\n",
      "34/34 [==============================] - 0s 1ms/step - loss: 3587.2754 - mae: 3587.2754\n",
      "Epoch 42/200\n",
      "34/34 [==============================] - 0s 1ms/step - loss: 3582.0601 - mae: 3582.0601\n",
      "Epoch 43/200\n",
      "34/34 [==============================] - 0s 2ms/step - loss: 3576.5615 - mae: 3576.5615\n",
      "Epoch 44/200\n",
      "34/34 [==============================] - 0s 1ms/step - loss: 3573.6216 - mae: 3573.6216\n",
      "Epoch 45/200\n",
      "34/34 [==============================] - 0s 1ms/step - loss: 3567.7273 - mae: 3567.7273\n",
      "Epoch 46/200\n",
      "34/34 [==============================] - 0s 1ms/step - loss: 3566.0857 - mae: 3566.0857\n",
      "Epoch 47/200\n",
      "34/34 [==============================] - 0s 1ms/step - loss: 3557.6575 - mae: 3557.6575\n",
      "Epoch 48/200\n",
      "34/34 [==============================] - 0s 1ms/step - loss: 3550.4895 - mae: 3550.4895\n",
      "Epoch 49/200\n",
      "34/34 [==============================] - 0s 2ms/step - loss: 3547.5164 - mae: 3547.5164\n",
      "Epoch 50/200\n",
      "34/34 [==============================] - 0s 1ms/step - loss: 3544.4883 - mae: 3544.4883\n",
      "Epoch 51/200\n",
      "34/34 [==============================] - 0s 1ms/step - loss: 3542.4773 - mae: 3542.4773\n",
      "Epoch 52/200\n",
      "34/34 [==============================] - 0s 1ms/step - loss: 3531.8228 - mae: 3531.8228\n",
      "Epoch 53/200\n",
      "34/34 [==============================] - 0s 2ms/step - loss: 3532.3757 - mae: 3532.3757\n",
      "Epoch 54/200\n",
      "34/34 [==============================] - 0s 1ms/step - loss: 3532.7612 - mae: 3532.7612\n",
      "Epoch 55/200\n",
      "34/34 [==============================] - 0s 1ms/step - loss: 3524.9075 - mae: 3524.9075\n",
      "Epoch 56/200\n",
      "34/34 [==============================] - 0s 1ms/step - loss: 3523.1343 - mae: 3523.1343\n",
      "Epoch 57/200\n",
      "34/34 [==============================] - 0s 1ms/step - loss: 3515.5371 - mae: 3515.5371\n",
      "Epoch 58/200\n",
      "34/34 [==============================] - 0s 1ms/step - loss: 3517.6255 - mae: 3517.6255\n",
      "Epoch 59/200\n",
      "34/34 [==============================] - 0s 1ms/step - loss: 3510.1423 - mae: 3510.1423\n",
      "Epoch 60/200\n",
      "34/34 [==============================] - 0s 1ms/step - loss: 3508.8916 - mae: 3508.8916\n",
      "Epoch 61/200\n",
      "34/34 [==============================] - 0s 1ms/step - loss: 3515.4163 - mae: 3515.4163\n",
      "Epoch 62/200\n",
      "34/34 [==============================] - 0s 1ms/step - loss: 3499.1938 - mae: 3499.1938\n",
      "Epoch 63/200\n",
      "34/34 [==============================] - 0s 1ms/step - loss: 3499.1667 - mae: 3499.1667\n",
      "Epoch 64/200\n",
      "34/34 [==============================] - 0s 1ms/step - loss: 3485.4067 - mae: 3485.4067\n",
      "Epoch 65/200\n",
      "34/34 [==============================] - 0s 1ms/step - loss: 3487.0518 - mae: 3487.0518\n",
      "Epoch 66/200\n",
      "34/34 [==============================] - 0s 1ms/step - loss: 3489.7578 - mae: 3489.7578\n",
      "Epoch 67/200\n",
      "34/34 [==============================] - 0s 1ms/step - loss: 3485.1108 - mae: 3485.1108\n",
      "Epoch 68/200\n",
      "34/34 [==============================] - 0s 1ms/step - loss: 3487.7053 - mae: 3487.7053\n",
      "Epoch 69/200\n",
      "34/34 [==============================] - 0s 1ms/step - loss: 3490.0503 - mae: 3490.0503\n",
      "Epoch 70/200\n",
      "34/34 [==============================] - 0s 1ms/step - loss: 3495.2852 - mae: 3495.2852\n",
      "Epoch 71/200\n",
      "34/34 [==============================] - 0s 1ms/step - loss: 3486.4199 - mae: 3486.4199\n",
      "Epoch 72/200\n",
      "34/34 [==============================] - 0s 1ms/step - loss: 3497.3501 - mae: 3497.3501\n",
      "Epoch 73/200\n",
      "34/34 [==============================] - 0s 1ms/step - loss: 3489.4609 - mae: 3489.4609\n",
      "Epoch 74/200\n",
      "34/34 [==============================] - 0s 1ms/step - loss: 3486.1196 - mae: 3486.1196\n",
      "Epoch 75/200\n",
      "34/34 [==============================] - 0s 1ms/step - loss: 3490.1924 - mae: 3490.1924\n",
      "Epoch 76/200\n",
      "34/34 [==============================] - 0s 1ms/step - loss: 3481.7578 - mae: 3481.7578\n",
      "Epoch 77/200\n",
      "34/34 [==============================] - 0s 1ms/step - loss: 3487.3503 - mae: 3487.3503\n",
      "Epoch 78/200\n",
      "34/34 [==============================] - 0s 1ms/step - loss: 3483.4565 - mae: 3483.4565\n",
      "Epoch 79/200\n",
      "34/34 [==============================] - 0s 1ms/step - loss: 3492.7158 - mae: 3492.7158\n",
      "Epoch 80/200\n",
      "34/34 [==============================] - 0s 1ms/step - loss: 3492.6729 - mae: 3492.6729\n",
      "Epoch 81/200\n",
      "34/34 [==============================] - 0s 2ms/step - loss: 3485.0234 - mae: 3485.0234\n",
      "Epoch 82/200\n"
     ]
    },
    {
     "name": "stdout",
     "output_type": "stream",
     "text": [
      "34/34 [==============================] - 0s 2ms/step - loss: 3486.6609 - mae: 3486.6609\n",
      "Epoch 83/200\n",
      "34/34 [==============================] - 0s 2ms/step - loss: 3495.8218 - mae: 3495.8218\n",
      "Epoch 84/200\n",
      "34/34 [==============================] - 0s 1ms/step - loss: 3480.0283 - mae: 3480.0283\n",
      "Epoch 85/200\n",
      "34/34 [==============================] - 0s 1ms/step - loss: 3485.9912 - mae: 3485.9912\n",
      "Epoch 86/200\n",
      "34/34 [==============================] - 0s 1ms/step - loss: 3483.8472 - mae: 3483.8472\n",
      "Epoch 87/200\n",
      "34/34 [==============================] - 0s 1ms/step - loss: 3488.1558 - mae: 3488.1558\n",
      "Epoch 88/200\n",
      "34/34 [==============================] - 0s 1ms/step - loss: 3495.9912 - mae: 3495.9912\n",
      "Epoch 89/200\n",
      "34/34 [==============================] - 0s 1ms/step - loss: 3488.3540 - mae: 3488.3540\n",
      "Epoch 90/200\n",
      "34/34 [==============================] - 0s 1ms/step - loss: 3494.0823 - mae: 3494.0823\n",
      "Epoch 91/200\n",
      "34/34 [==============================] - 0s 1ms/step - loss: 3489.1560 - mae: 3489.1560\n",
      "Epoch 92/200\n",
      "34/34 [==============================] - 0s 1ms/step - loss: 3497.8367 - mae: 3497.8367\n",
      "Epoch 93/200\n",
      "34/34 [==============================] - 0s 1ms/step - loss: 3490.6257 - mae: 3490.6257\n",
      "Epoch 94/200\n",
      "34/34 [==============================] - 0s 1ms/step - loss: 3489.2334 - mae: 3489.2334\n",
      "Epoch 95/200\n",
      "34/34 [==============================] - 0s 1ms/step - loss: 3484.1780 - mae: 3484.1780\n",
      "Epoch 96/200\n",
      "34/34 [==============================] - 0s 1ms/step - loss: 3483.4451 - mae: 3483.4451\n",
      "Epoch 97/200\n",
      "34/34 [==============================] - 0s 2ms/step - loss: 3490.5178 - mae: 3490.5178\n",
      "Epoch 98/200\n",
      "34/34 [==============================] - 0s 2ms/step - loss: 3481.6479 - mae: 3481.6479\n",
      "Epoch 99/200\n",
      "34/34 [==============================] - 0s 2ms/step - loss: 3493.0212 - mae: 3493.0212\n",
      "Epoch 100/200\n",
      "34/34 [==============================] - 0s 2ms/step - loss: 3498.9114 - mae: 3498.9114\n",
      "Epoch 101/200\n",
      "34/34 [==============================] - 0s 2ms/step - loss: 3490.1016 - mae: 3490.1016\n",
      "Epoch 102/200\n",
      "34/34 [==============================] - 0s 2ms/step - loss: 3491.1484 - mae: 3491.1484\n",
      "Epoch 103/200\n",
      "34/34 [==============================] - 0s 2ms/step - loss: 3487.6306 - mae: 3487.6306\n",
      "Epoch 104/200\n",
      "34/34 [==============================] - 0s 1ms/step - loss: 3493.2061 - mae: 3493.2061\n",
      "Epoch 105/200\n",
      "34/34 [==============================] - 0s 1ms/step - loss: 3491.6152 - mae: 3491.6152\n",
      "Epoch 106/200\n",
      "34/34 [==============================] - 0s 2ms/step - loss: 3486.9106 - mae: 3486.9106\n",
      "Epoch 107/200\n",
      "34/34 [==============================] - 0s 2ms/step - loss: 3495.2568 - mae: 3495.2568\n",
      "Epoch 108/200\n",
      "34/34 [==============================] - 0s 2ms/step - loss: 3486.8613 - mae: 3486.8613\n",
      "Epoch 109/200\n",
      "34/34 [==============================] - 0s 2ms/step - loss: 3488.2415 - mae: 3488.2415\n",
      "Epoch 110/200\n",
      "34/34 [==============================] - 0s 2ms/step - loss: 3492.3560 - mae: 3492.3560\n",
      "Epoch 111/200\n",
      "34/34 [==============================] - 0s 2ms/step - loss: 3498.2822 - mae: 3498.2822\n",
      "Epoch 112/200\n",
      "34/34 [==============================] - 0s 2ms/step - loss: 3489.2654 - mae: 3489.2654\n",
      "Epoch 113/200\n",
      "34/34 [==============================] - 0s 1ms/step - loss: 3483.4390 - mae: 3483.4390\n",
      "Epoch 114/200\n",
      "34/34 [==============================] - 0s 1ms/step - loss: 3490.9705 - mae: 3490.9705\n",
      "Epoch 115/200\n",
      "34/34 [==============================] - 0s 2ms/step - loss: 3491.3857 - mae: 3491.3857\n",
      "Epoch 116/200\n",
      "34/34 [==============================] - 0s 2ms/step - loss: 3479.8035 - mae: 3479.8035\n",
      "Epoch 117/200\n",
      "34/34 [==============================] - 0s 1ms/step - loss: 3484.5879 - mae: 3484.5879\n",
      "Epoch 118/200\n",
      "34/34 [==============================] - 0s 1ms/step - loss: 3491.0388 - mae: 3491.0388\n",
      "Epoch 119/200\n",
      "34/34 [==============================] - 0s 1ms/step - loss: 3484.3892 - mae: 3484.3892\n",
      "Epoch 120/200\n",
      "34/34 [==============================] - 0s 2ms/step - loss: 3486.9331 - mae: 3486.9331\n",
      "Epoch 121/200\n",
      "34/34 [==============================] - 0s 1ms/step - loss: 3491.9819 - mae: 3491.9819\n",
      "Epoch 122/200\n",
      "34/34 [==============================] - 0s 1ms/step - loss: 3490.6072 - mae: 3490.6072\n",
      "Epoch 123/200\n",
      "34/34 [==============================] - 0s 1ms/step - loss: 3484.2751 - mae: 3484.2751\n",
      "Epoch 124/200\n",
      "34/34 [==============================] - 0s 1ms/step - loss: 3486.2097 - mae: 3486.2097\n",
      "Epoch 125/200\n",
      "34/34 [==============================] - 0s 2ms/step - loss: 3486.1504 - mae: 3486.1504\n",
      "Epoch 126/200\n",
      "34/34 [==============================] - 0s 1ms/step - loss: 3499.6516 - mae: 3499.6516\n",
      "Epoch 127/200\n",
      "34/34 [==============================] - 0s 2ms/step - loss: 3485.7480 - mae: 3485.7480\n",
      "Epoch 128/200\n",
      "34/34 [==============================] - 0s 1ms/step - loss: 3485.5051 - mae: 3485.5051\n",
      "Epoch 129/200\n",
      "34/34 [==============================] - 0s 2ms/step - loss: 3486.2224 - mae: 3486.2224\n",
      "Epoch 130/200\n",
      "34/34 [==============================] - 0s 2ms/step - loss: 3486.6282 - mae: 3486.6282\n",
      "Epoch 131/200\n",
      "34/34 [==============================] - 0s 1ms/step - loss: 3488.9268 - mae: 3488.9268\n",
      "Epoch 132/200\n",
      "34/34 [==============================] - 0s 1ms/step - loss: 3490.2729 - mae: 3490.2729\n",
      "Epoch 133/200\n",
      "34/34 [==============================] - 0s 1ms/step - loss: 3492.7332 - mae: 3492.7332\n",
      "Epoch 134/200\n",
      "34/34 [==============================] - 0s 2ms/step - loss: 3488.7524 - mae: 3488.7524\n",
      "Epoch 135/200\n",
      "34/34 [==============================] - 0s 2ms/step - loss: 3492.0898 - mae: 3492.0898\n",
      "Epoch 136/200\n",
      "34/34 [==============================] - 0s 1ms/step - loss: 3493.5969 - mae: 3493.5969\n",
      "Epoch 137/200\n",
      "34/34 [==============================] - 0s 1ms/step - loss: 3482.7090 - mae: 3482.7090\n",
      "Epoch 138/200\n",
      "34/34 [==============================] - 0s 2ms/step - loss: 3489.7180 - mae: 3489.7180\n",
      "Epoch 139/200\n",
      "34/34 [==============================] - 0s 1ms/step - loss: 3493.9927 - mae: 3493.9927\n",
      "Epoch 140/200\n",
      "34/34 [==============================] - 0s 2ms/step - loss: 3491.5991 - mae: 3491.5991\n",
      "Epoch 141/200\n",
      "34/34 [==============================] - 0s 2ms/step - loss: 3488.6604 - mae: 3488.6604\n",
      "Epoch 142/200\n",
      "34/34 [==============================] - 0s 1ms/step - loss: 3478.0813 - mae: 3478.0813\n",
      "Epoch 143/200\n",
      "34/34 [==============================] - 0s 1ms/step - loss: 3492.7241 - mae: 3492.7241\n",
      "Epoch 144/200\n",
      "34/34 [==============================] - 0s 1ms/step - loss: 3492.8064 - mae: 3492.8064\n",
      "Epoch 145/200\n",
      "34/34 [==============================] - 0s 1ms/step - loss: 3487.7090 - mae: 3487.7090\n",
      "Epoch 146/200\n",
      "34/34 [==============================] - 0s 2ms/step - loss: 3484.0288 - mae: 3484.0288\n",
      "Epoch 147/200\n",
      "34/34 [==============================] - 0s 2ms/step - loss: 3482.9729 - mae: 3482.9729\n",
      "Epoch 148/200\n",
      "34/34 [==============================] - 0s 1ms/step - loss: 3486.2815 - mae: 3486.2815\n",
      "Epoch 149/200\n",
      "34/34 [==============================] - 0s 2ms/step - loss: 3486.8240 - mae: 3486.8240\n",
      "Epoch 150/200\n",
      "34/34 [==============================] - 0s 2ms/step - loss: 3481.6182 - mae: 3481.6182\n",
      "Epoch 151/200\n",
      "34/34 [==============================] - 0s 2ms/step - loss: 3477.3059 - mae: 3477.3059\n",
      "Epoch 152/200\n",
      "34/34 [==============================] - 0s 1ms/step - loss: 3486.7168 - mae: 3486.7168\n",
      "Epoch 153/200\n",
      "34/34 [==============================] - 0s 1ms/step - loss: 3496.7346 - mae: 3496.7346\n",
      "Epoch 154/200\n",
      "34/34 [==============================] - 0s 1ms/step - loss: 3495.8860 - mae: 3495.8860\n",
      "Epoch 155/200\n",
      "34/34 [==============================] - 0s 1ms/step - loss: 3484.3591 - mae: 3484.3591\n",
      "Epoch 156/200\n",
      "34/34 [==============================] - 0s 2ms/step - loss: 3482.2925 - mae: 3482.2925\n",
      "Epoch 157/200\n",
      "34/34 [==============================] - 0s 1ms/step - loss: 3486.6011 - mae: 3486.6011\n",
      "Epoch 158/200\n",
      "34/34 [==============================] - 0s 2ms/step - loss: 3491.4539 - mae: 3491.4539\n",
      "Epoch 159/200\n",
      "34/34 [==============================] - 0s 2ms/step - loss: 3484.3518 - mae: 3484.3518\n",
      "Epoch 160/200\n",
      "34/34 [==============================] - 0s 1ms/step - loss: 3485.6646 - mae: 3485.6646\n",
      "Epoch 161/200\n",
      "34/34 [==============================] - 0s 1ms/step - loss: 3493.4590 - mae: 3493.4590\n",
      "Epoch 162/200\n"
     ]
    },
    {
     "name": "stdout",
     "output_type": "stream",
     "text": [
      "34/34 [==============================] - 0s 1ms/step - loss: 3491.6328 - mae: 3491.6328\n",
      "Epoch 163/200\n",
      "34/34 [==============================] - 0s 1ms/step - loss: 3492.1711 - mae: 3492.1711\n",
      "Epoch 164/200\n",
      "34/34 [==============================] - 0s 1ms/step - loss: 3490.9890 - mae: 3490.9890\n",
      "Epoch 165/200\n",
      "34/34 [==============================] - 0s 1ms/step - loss: 3489.7913 - mae: 3489.7913\n",
      "Epoch 166/200\n",
      "34/34 [==============================] - 0s 1ms/step - loss: 3487.2278 - mae: 3487.2278\n",
      "Epoch 167/200\n",
      "34/34 [==============================] - 0s 1ms/step - loss: 3486.5061 - mae: 3486.5061\n",
      "Epoch 168/200\n",
      "34/34 [==============================] - 0s 1ms/step - loss: 3487.0515 - mae: 3487.0515\n",
      "Epoch 169/200\n",
      "34/34 [==============================] - 0s 1ms/step - loss: 3483.3953 - mae: 3483.3953\n",
      "Epoch 170/200\n",
      "34/34 [==============================] - 0s 1ms/step - loss: 3490.6089 - mae: 3490.6089\n",
      "Epoch 171/200\n",
      "34/34 [==============================] - 0s 1ms/step - loss: 3486.6152 - mae: 3486.6152\n",
      "Epoch 172/200\n",
      "34/34 [==============================] - 0s 1ms/step - loss: 3486.6997 - mae: 3486.6997\n",
      "Epoch 173/200\n",
      "34/34 [==============================] - 0s 1ms/step - loss: 3489.5811 - mae: 3489.5811\n",
      "Epoch 174/200\n",
      "34/34 [==============================] - 0s 1ms/step - loss: 3485.4788 - mae: 3485.4788\n",
      "Epoch 175/200\n",
      "34/34 [==============================] - 0s 2ms/step - loss: 3484.6426 - mae: 3484.6426\n",
      "Epoch 176/200\n",
      "34/34 [==============================] - 0s 1ms/step - loss: 3483.9756 - mae: 3483.9756\n",
      "Epoch 177/200\n",
      "34/34 [==============================] - 0s 2ms/step - loss: 3486.3035 - mae: 3486.3035\n",
      "Epoch 178/200\n",
      "34/34 [==============================] - 0s 1ms/step - loss: 3478.1711 - mae: 3478.1711\n",
      "Epoch 179/200\n",
      "34/34 [==============================] - 0s 1ms/step - loss: 3485.0801 - mae: 3485.0801\n",
      "Epoch 180/200\n",
      "34/34 [==============================] - 0s 1ms/step - loss: 3487.3789 - mae: 3487.3789\n",
      "Epoch 181/200\n",
      "34/34 [==============================] - 0s 1ms/step - loss: 3494.8638 - mae: 3494.8638\n",
      "Epoch 182/200\n",
      "34/34 [==============================] - 0s 2ms/step - loss: 3484.6870 - mae: 3484.6870\n",
      "Epoch 183/200\n",
      "34/34 [==============================] - 0s 1ms/step - loss: 3480.2649 - mae: 3480.2649\n",
      "Epoch 184/200\n",
      "34/34 [==============================] - 0s 1ms/step - loss: 3487.3130 - mae: 3487.3130\n",
      "Epoch 185/200\n",
      "34/34 [==============================] - 0s 1ms/step - loss: 3484.7139 - mae: 3484.7139\n",
      "Epoch 186/200\n",
      "34/34 [==============================] - 0s 2ms/step - loss: 3491.0737 - mae: 3491.0737\n",
      "Epoch 187/200\n",
      "34/34 [==============================] - 0s 1ms/step - loss: 3487.1936 - mae: 3487.1936\n",
      "Epoch 188/200\n",
      "34/34 [==============================] - 0s 2ms/step - loss: 3488.4841 - mae: 3488.4841\n",
      "Epoch 189/200\n",
      "34/34 [==============================] - 0s 2ms/step - loss: 3487.3218 - mae: 3487.3218\n",
      "Epoch 190/200\n",
      "34/34 [==============================] - 0s 2ms/step - loss: 3486.4919 - mae: 3486.4919\n",
      "Epoch 191/200\n",
      "34/34 [==============================] - 0s 1ms/step - loss: 3478.8179 - mae: 3478.8179\n",
      "Epoch 192/200\n",
      "34/34 [==============================] - 0s 1ms/step - loss: 3485.3872 - mae: 3485.3872\n",
      "Epoch 193/200\n",
      "34/34 [==============================] - 0s 1ms/step - loss: 3491.1643 - mae: 3491.1643\n",
      "Epoch 194/200\n",
      "34/34 [==============================] - 0s 1ms/step - loss: 3490.0371 - mae: 3490.0371\n",
      "Epoch 195/200\n",
      "34/34 [==============================] - 0s 1ms/step - loss: 3485.8472 - mae: 3485.8472\n",
      "Epoch 196/200\n",
      "34/34 [==============================] - 0s 1ms/step - loss: 3480.7153 - mae: 3480.7153\n",
      "Epoch 197/200\n",
      "34/34 [==============================] - 0s 2ms/step - loss: 3487.2705 - mae: 3487.2705\n",
      "Epoch 198/200\n",
      "34/34 [==============================] - 0s 1ms/step - loss: 3492.9858 - mae: 3492.9858\n",
      "Epoch 199/200\n",
      "34/34 [==============================] - 0s 1ms/step - loss: 3484.7197 - mae: 3484.7197\n",
      "Epoch 200/200\n",
      "34/34 [==============================] - 0s 1ms/step - loss: 3486.4900 - mae: 3486.4900\n"
     ]
    }
   ],
   "source": [
    "tf.random.set_seed(42)\n",
    "\n",
    "# 1. Create the model\n",
    "insurance_model_3 = tf.keras.Sequential([\n",
    "    tf.keras.layers.Dense(10),\n",
    "    tf.keras.layers.Dense(1)\n",
    "])\n",
    "\n",
    "# 2. Compile the model\n",
    "insurance_model_3.compile(loss=tf.keras.losses.mae,\n",
    "                          optimizer=tf.keras.optimizers.SGD(),\n",
    "                          metrics=['mae'])\n",
    "\n",
    "# 3. Fit the model\n",
    "history = insurance_model_3.fit(X_train, y_train, epochs=200)"
   ]
  },
  {
   "cell_type": "code",
   "execution_count": 37,
   "metadata": {},
   "outputs": [
    {
     "name": "stdout",
     "output_type": "stream",
     "text": [
      "9/9 [==============================] - 0s 1ms/step - loss: 3161.9829 - mae: 3161.9829\n"
     ]
    },
    {
     "data": {
      "text/plain": [
       "[3161.98291015625, 3161.98291015625]"
      ]
     },
     "execution_count": 37,
     "metadata": {},
     "output_type": "execute_result"
    }
   ],
   "source": [
    "# Evaluate model 3\n",
    "insurance_model_3.evaluate(X_test, y_test)"
   ]
  },
  {
   "cell_type": "code",
   "execution_count": 38,
   "metadata": {},
   "outputs": [
    {
     "data": {
      "image/png": "[encoded data removed]",
      "text/plain": [
       "<Figure size 432x288 with 1 Axes>"
      ]
     },
     "metadata": {
      "needs_background": "light"
     },
     "output_type": "display_data"
    }
   ],
   "source": [
    "# Plot history \n",
    "pd.DataFrame(history.history).plot()\n",
    "plt.ylabel('loss')\n",
    "plt.xlabel('epochs');"
   ]
  },
  {
   "cell_type": "markdown",
   "metadata": {},
   "source": [
    "Here error is bit lower than model 1"
   ]
  },
  {
   "cell_type": "markdown",
   "metadata": {},
   "source": [
    "### Model 4"
   ]
  },
  {
   "cell_type": "code",
   "execution_count": 60,
   "metadata": {},
   "outputs": [],
   "source": [
    "tf.random.set_seed(42)\n",
    "\n",
    "# 1. Create the model\n",
    "insurance_model_4 = tf.keras.Sequential([\n",
    "    tf.keras.layers.Dense(15),\n",
    "    tf.keras.layers.Dense(1)\n",
    "])\n",
    "\n",
    "# 2. Compile the model\n",
    "insurance_model_4.compile(loss=tf.keras.losses.mae,\n",
    "                          optimizer=tf.keras.optimizers.SGD(learning_rate=0.02),\n",
    "                          metrics=['mae'])\n",
    "\n",
    "# 3. Fit the model\n",
    "history = insurance_model_4.fit(X_train, y_train, epochs=50, verbose=0)"
   ]
  },
  {
   "cell_type": "code",
   "execution_count": 61,
   "metadata": {},
   "outputs": [
    {
     "name": "stdout",
     "output_type": "stream",
     "text": [
      "9/9 [==============================] - 0s 996us/step - loss: 3163.2454 - mae: 3163.2454\n"
     ]
    },
    {
     "data": {
      "text/plain": [
       "[3163.245361328125, 3163.245361328125]"
      ]
     },
     "execution_count": 61,
     "metadata": {},
     "output_type": "execute_result"
    }
   ],
   "source": [
    "# Evaluate model 4\n",
    "insurance_model_4.evaluate(X_test, y_test)"
   ]
  },
  {
   "cell_type": "code",
   "execution_count": 62,
   "metadata": {},
   "outputs": [
    {
     "data": {
      "text/plain": [
       "<matplotlib.axes._subplots.AxesSubplot at 0x7fa9680ba820>"
      ]
     },
     "execution_count": 62,
     "metadata": {},
     "output_type": "execute_result"
    },
    {
     "data": {
      "image/png": "[encoded data removed]",
      "text/plain": [
       "<Figure size 432x288 with 1 Axes>"
      ]
     },
     "metadata": {
      "needs_background": "light"
     },
     "output_type": "display_data"
    }
   ],
   "source": [
    "pd.DataFrame(history.history).plot()"
   ]
  }
 ],
 "metadata": {
  "kernelspec": {
   "display_name": "Python 3",
   "language": "python",
   "name": "python3"
  },
  "language_info": {
   "codemirror_mode": {
    "name": "ipython",
    "version": 3
   },
   "file_extension": ".py",
   "mimetype": "text/x-python",
   "name": "python",
   "nbconvert_exporter": "python",
   "pygments_lexer": "ipython3",
   "version": "3.8.10"
  }
 },
 "nbformat": 4,
 "nbformat_minor": 4
}
